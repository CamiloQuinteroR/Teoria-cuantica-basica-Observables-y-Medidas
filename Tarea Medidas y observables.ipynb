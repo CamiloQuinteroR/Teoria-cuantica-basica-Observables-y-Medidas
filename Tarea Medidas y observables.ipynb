{
 "cells": [
  {
   "cell_type": "markdown",
   "id": "1b9eb707-7c83-4f97-ba13-0231912c8306",
   "metadata": {},
   "source": [
    "# Teoría cuántica básica, Observables y Medidas\n",
    "\n",
    "## Simule el primer sistema cuántico descrito en la sección 4.1.\n",
    "El sistema consiste en una partícula confinada a un conjunto discreto de posiciones en una línea. El simulador debe permitir especificar el número de posiciones y un vector ket de estado asignando las amplitudes.\n",
    "\n",
    "1. El sistema debe calcular la probabilidad de encontrarlo en una posición en particular.\n"
   ]
  },
  {
   "cell_type": "code",
   "execution_count": 6,
   "id": "36c6338e-7e0a-49a2-b34d-d3c14cadcce9",
   "metadata": {},
   "outputs": [
    {
     "name": "stdout",
     "output_type": "stream",
     "text": [
      "Probabilidad de encontrar la partícula en x0: 0.5263157894736842\n",
      "Probabilidad de encontrar la partícula en x1: 0.21052631578947364\n",
      "Probabilidad de encontrar la partícula en x2: 0.05263157894736841\n",
      "Probabilidad de encontrar la partícula en x3: 0.21052631578947364\n",
      "Si deseamos calculal la probabilidad específica en un punto: x_3\n",
      "Probabilidad de encontrar la partícula en x3: 0.21052631578947364\n"
     ]
    }
   ],
   "source": [
    "import numpy as np\n",
    "\n",
    "#Calculamos la norma del vector\n",
    "def norm(ket): \n",
    "    return np.linalg.norm(ket)\n",
    "\n",
    "#Calculamos la probabilidad de encontrar la partícula en todas las posiciones\n",
    "def probabilidad(n,ket):\n",
    "    for i in range(n):\n",
    "        print(f\"Probabilidad de encontrar la partícula en x{i}: {abs(ket[i])**2/norm(ket)**2}\")\n",
    "\n",
    "#Calculamos la probabilidad de encontrar la partícula en cualquier posición\n",
    "def probabilidadEs(ket,i):\n",
    "    print(f\"Probabilidad de encontrar la partícula en x{i}: {abs(ket[i])**2/norm(ket)**2}\")\n",
    "\n",
    "def main():\n",
    "    #Asumimos que la particula puede estar en cuatro posiciones \n",
    "    n = 4\n",
    "    ket = np.array([-3 - 1j, -2j, 1j, 2])\n",
    "    probabilidad(n,ket)\n",
    "    #Probabilidad para la posicion 3\n",
    "    i = 3\n",
    "    print(f\"Si deseamos calculal la probabilidad específica en un punto: x_{i}\")\n",
    "    probabilidadEs(ket,i)\n",
    "main()"
   ]
  },
  {
   "cell_type": "markdown",
   "id": "973a57fe",
   "metadata": {},
   "source": [
    "\n",
    "2. El sistema si se le da otro vector Ket debe buscar la probabilidad de transitar del primer vector al segundo."
   ]
  },
  {
   "cell_type": "code",
   "execution_count": 13,
   "id": "f7fbb2e0",
   "metadata": {},
   "outputs": [
    {
     "name": "stdout",
     "output_type": "stream",
     "text": [
      "0.6608187134502924\n"
     ]
    }
   ],
   "source": [
    "import numpy as np\n",
    "\n",
    "#Calculamos la norma del vector\n",
    "def norm(ket): \n",
    "    return np.linalg.norm(ket)\n",
    "\n",
    "#Normalizamos el vector \n",
    "def normaliza(ket):\n",
    "    return ket/norm(ket)\n",
    "\n",
    "#Probabilidad de transicion\n",
    "def probabilidadT(ket,ket2):\n",
    "    bra = np.vdot(normaliza(ket),normaliza(ket2))\n",
    "    print(np.abs(bra)**2)\n",
    "\n",
    "def main():\n",
    "    #Asumimo el primr ket\n",
    "    ket = np.array([-3 - 1j, -2j, 1j, 2])\n",
    "    #Asumimos el segundo ket\n",
    "    ket2 = np.array([-3 , -2j, 0, 2j+1])\n",
    "\n",
    "    #Calculamos la probabilidad \n",
    "    probabilidadT(ket,ket2)\n",
    "main()"
   ]
  },
  {
   "cell_type": "markdown",
   "id": "380d0d61-9d8f-4412-99e0-c46a7dd4c98c",
   "metadata": {},
   "source": [
    "## Complete los retos de programación del capítulo 4.\n",
    "\n",
    "1. Amplitud de transición. El sistema puede recibir dos vectores y calcular la probabilidad de transitar de el uno al otro después de hacer la observación\n",
    "\n"
   ]
  },
  {
   "cell_type": "code",
   "execution_count": 8,
   "id": "2ce683d9",
   "metadata": {},
   "outputs": [
    {
     "data": {
      "text/plain": [
       "np.complex128(0.7825855808712293-0.04891159880445184j)"
      ]
     },
     "execution_count": 8,
     "metadata": {},
     "output_type": "execute_result"
    }
   ],
   "source": [
    "#Suponemos dos vectores \n",
    "ket = np.array([-3 - 1j, -2j, 1j, 2])\n",
    "ketpri = np.array([-3 - 2j, -2, 1j, 2])\n",
    "\n",
    "def norm(ket): \n",
    "    return np.linalg.norm(ket)\n",
    "\n",
    "#Teniendo en cuenta la definición de producto interno, calculamos la amplitud de transicion\n",
    "producto_interno = np.vdot(ket/norm(ket), ketpri/norm(ketpri))  \n",
    "producto_interno\n"
   ]
  },
  {
   "cell_type": "markdown",
   "id": "91e3a584",
   "metadata": {},
   "source": [
    "2. Ahora con una matriz que describa un observable y un vector ket, el sistema revisa que la matriz sea hermitiana, y si lo es, calcula la media y la varianza del observable en el estado dado."
   ]
  },
  {
   "cell_type": "code",
   "execution_count": 8,
   "id": "10c6af51",
   "metadata": {},
   "outputs": [
    {
     "name": "stdout",
     "output_type": "stream",
     "text": [
      "La matriz es hermitiana\n",
      "La media es: 39.0\n",
      "La varainza es: -1367.0\n"
     ]
    }
   ],
   "source": [
    "#Definimos un estado\n",
    "ket = np.array([-3 - 1j, -2j, 1j, 2])\n",
    "#Definimos la matriz que describe el observable\n",
    "matriz = np.array([[1, 2 - 1j, 0, 0],\n",
    "                   [2 + 1j, 3, 4, 0],\n",
    "                   [0, 4, 5, -1],\n",
    "                   [0, 0, -1, 2]])\n",
    "\n",
    "#Comprobamos que la matriz es hermitiana\n",
    "if np.array_equal(matriz, matriz.conj().T):\n",
    "    print(\"La matriz es hermitiana\")\n",
    "    #Calculamos la media\n",
    "    media = np.real(np.vdot(ket, np.dot(matriz, ket)))\n",
    "    print(f\"La media es: {media}\")\n",
    "    #Calculamos la varainza\n",
    "    varianza = np.real(np.vdot(ket, np.dot(np.dot(matriz, matriz) , ket))) - media**2\n",
    "    print(f\"La varainza es: {varianza}\")\n",
    "\n",
    "else:\n",
    "    print(\"La matriz no es hermitiana\")\n",
    "\n",
    "\n"
   ]
  },
  {
   "cell_type": "markdown",
   "id": "84fc3d1f",
   "metadata": {},
   "source": [
    "3. El sistema calcula los valores propios del observable y la probabilidad de que el sistema transite a alguno de los vectores propios después de la observación.\n",
    "\n"
   ]
  },
  {
   "cell_type": "code",
   "execution_count": 17,
   "id": "ff0dfb2d",
   "metadata": {},
   "outputs": [
    {
     "name": "stdout",
     "output_type": "stream",
     "text": [
      "Valor propio 1 : (8.479804239443677-3.6178305313558496e-16j)\n",
      "Valor propio 2 : (-1.5334333052227214+1.0644464174638207e-16j)\n",
      "Valor propio 3 : (2.5394294261975916+9.429068764566432e-17j)\n",
      "Valor propio 4 : (1.5141996395814594+5.0025421281022696e-17j)\n",
      "Probabilidad para el vector del valor propio 1: 4.7923715390672825\n",
      "Probabilidad para el vector del valor propio 2: 4.524567507171867\n",
      "Probabilidad para el vector del valor propio 3: 2.35089470319071\n",
      "Probabilidad para el vector del valor propio 4: 3.327084765859387\n"
     ]
    }
   ],
   "source": [
    "#Definimos la matriz que describe el observable\n",
    "matriz = np.array([[1, 2 - 1j, 0, 0],\n",
    "                   [2 + 1j, 3, 4, 0],\n",
    "                   [0, 4, 5, -1],\n",
    "                   [0, 0, -1, 2]])\n",
    "\n",
    "ket = np.array([-3 - 1j, -2j, 1j, 2])\n",
    "#Calculamos los vectores y valores propios de la matriz\n",
    "valores, vectores = np.linalg.eig(matriz)\n",
    "\n",
    "m = 0\n",
    "for i in valores:\n",
    "    print(f\"Valor propio {m+1} : {i}\")\n",
    "    m = m + 1\n",
    "\n",
    "#Ahora calculamos la probabilidad de que el sistema transite a alguno de los vectores propios\n",
    "n = 0\n",
    "for i in vectores:\n",
    "    print(f\"Probabilidad para el vector del valor propio {n + 1}: {np.real(np.vdot(ket,i))**2}\")\n",
    "    n = n + 1\n",
    "\n"
   ]
  },
  {
   "cell_type": "markdown",
   "id": "42478a36",
   "metadata": {},
   "source": [
    "4. Se considera la dinámica del sistema. Ahora con una serie de matrices Un el sistema calcula el estado final a partir de un estado inicial"
   ]
  },
  {
   "cell_type": "code",
   "execution_count": 29,
   "id": "c0dedf8e",
   "metadata": {},
   "outputs": [
    {
     "name": "stdout",
     "output_type": "stream",
     "text": [
      "Estado resultante:\n",
      "[-1.43933983-1.85355339j -1.56066017-1.14644661j  2.91421356-0.5j       ]\n"
     ]
    }
   ],
   "source": [
    "import numpy as np\n",
    "\n",
    "#Definimos el estado inicial\n",
    "estado0 = np.array([-3 - 1j, -2j, 2])\n",
    " \n",
    "\n",
    "#Definimos la serie de matrices\n",
    "m1 = np.array([[np.sqrt(2)/2, -np.sqrt(2)/2, 0],\n",
    "              [np.sqrt(2)/2, np.sqrt(2)/2, 0],\n",
    "              [0, 0, 1]])\n",
    "\n",
    "m2 = np.array([[np.cos(np.pi / 4), 0, np.sin(np.pi / 4)],\n",
    "              [0, 1, 0],\n",
    "              [-np.sin(np.pi / 4), 0, np.cos(np.pi / 4)]])\n",
    "\n",
    "m3 = np.array([[0, 1, 0],\n",
    "              [1, 0, 0],\n",
    "              [0, 0, 1]])\n",
    "\n",
    "\n",
    "estado1 = np.dot(m1, estado0)  \n",
    "estado2 = np.dot(m2, estado1)  \n",
    "estado3 = np.dot(m3, estado2) \n",
    "estadof = np.dot(m1, estado3) \n",
    "\n",
    "print(\"Estado resultante:\")\n",
    "print(estadof)\n"
   ]
  },
  {
   "cell_type": "markdown",
   "id": "3e684f4a",
   "metadata": {},
   "source": [
    "## Problemas propuestos \n",
    "\n",
    "Modele en su librería los problemas\n",
    "\n",
    "4.3.1\n",
    "\n",
    "4.3.2\n",
    "\n",
    "4.4.1\n",
    "\n",
    "4.4.2\n",
    "\n",
    "Desarrolle e incluya en el Github una discusión de los ejercicios 4.5.2 y 4.5.3"
   ]
  },
  {
   "cell_type": "markdown",
   "id": "61c06880",
   "metadata": {},
   "source": [
    "### Solución 4.3.1\n",
    "\n",
    "Find all the possible states the system described in Exercise 4.2.2\n",
    "can transition into after a measurement has been carried out.\n",
    "\n"
   ]
  },
  {
   "cell_type": "code",
   "execution_count": 34,
   "id": "16c99cd2",
   "metadata": {},
   "outputs": [
    {
     "name": "stdout",
     "output_type": "stream",
     "text": [
      "El estado resultante despues que Sx actua sobre el estado inicial es:\n",
      "[[0. ]\n",
      " [0.5]]\n",
      "Probabilidad de transitar al estado up: 0.0 \n",
      "Probabilidad de transitar al estado down: 1.0\n"
     ]
    }
   ],
   "source": [
    "import numpy as np\n",
    "#Definimos el estado de spin hacia arriba\n",
    "\n",
    "estado0 = np.array([[1],[0]])\n",
    "\n",
    "#Definimos la matrix Sx\n",
    "h = 1\n",
    "S = h/2*np.array([[0,1],\n",
    "              [1,0]])\n",
    "\n",
    "#Aplicando Sx al estado incial\n",
    "estado1 = np.dot(S,estado0)\n",
    "\n",
    "print(f\"El estado resultante despues que Sx actua sobre el estado inicial es:\")\n",
    "print(estado1)\n",
    "#Normalizamos el estado resultante ->>> estado1\n",
    "estado_resultante = estado1 / np.linalg.norm(estado1)\n",
    "\n",
    "#Tenemos en cuenta que el spin puede estas en un estado hacia arriba o en un estado hacia abajo\n",
    "#Definimos los dos estados probables\n",
    "up = np.array([[1],[0]])\n",
    "down = np.array([[0],[1]])\n",
    "\n",
    "\n",
    "#Calculamos la probabilidad de transicion para cada caso\n",
    "pr_up = np.vdot(estado_resultante,up)**2\n",
    "pr_down = np.vdot(estado_resultante,down)**2\n",
    "\n",
    "print(f\"Probabilidad de transitar al estado up: {pr_up} \")\n",
    "print(f\"Probabilidad de transitar al estado down: {pr_down}\")\n"
   ]
  },
  {
   "cell_type": "markdown",
   "id": "871036a2",
   "metadata": {},
   "source": [
    "### Solución 4.3.2\n",
    "\n",
    "Perform the same calculations as in the last example, using Exercise 4.3.1. Then draw the probability distribution of the eigenvalues as in the previous example"
   ]
  },
  {
   "cell_type": "code",
   "execution_count": 6,
   "id": "89ca24dd",
   "metadata": {},
   "outputs": [
    {
     "name": "stdout",
     "output_type": "stream",
     "text": [
      "Probabilidad para el vector del valor propio 1: 0.5000000000000001\n",
      "Probabilidad para el vector del valor propio 2: 0.4999999999999998\n"
     ]
    },
    {
     "data": {
      "image/png": "[encoded data removed]",
      "text/plain": [
       "<Figure size 800x500 with 1 Axes>"
      ]
     },
     "metadata": {},
     "output_type": "display_data"
    }
   ],
   "source": [
    "import numpy as np\n",
    "import matplotlib.pyplot as plt\n",
    "estado0 = np.array([[1],[0]])\n",
    "\n",
    "#Definimos la matrix Sx\n",
    "h = 1\n",
    "S = h/2*np.array([[0,1],\n",
    "              [1,0]])\n",
    "#Calculamos los valores y vectores propios\n",
    "valores, vectores = np.linalg.eig(S)\n",
    "\n",
    "#Ahora calculamos la probabilidad de que el sistema transite a alguno de los vectores propios\n",
    "n= 0\n",
    "probabilidades = []\n",
    "for i in vectores:\n",
    "    probabilidad = np.real(np.vdot(estado0, i))**2\n",
    "    probabilidades.append(probabilidad)\n",
    "    print(f\"Probabilidad para el vector del valor propio {n + 1}: {probabilidad}\")\n",
    "    n = n + 1\n",
    "\n",
    "plt.figure(figsize=(8, 5))\n",
    "plt.bar(range(1, len(valores) + 1), probabilidades, tick_label=[f\"Valor {i+1}\" for i in range(len(valores))], color='skyblue', alpha=0.7)\n",
    "plt.xlabel('Valores Propios')\n",
    "plt.ylabel('Probabilidad')\n",
    "plt.title('Distribución de Probabilidades')\n",
    "plt.ylim(0, 1)\n",
    "plt.grid(axis='y')\n",
    "plt.show()"
   ]
  },
  {
   "cell_type": "markdown",
   "id": "dd0823aa",
   "metadata": {},
   "source": [
    "### Solución 4.4.1\n",
    "\n",
    "Verify that\n",
    "\n",
    "\n",
    "$$ U = \\begin{bmatrix} 0 & 1 \\\\ 1 & 0 \\end{bmatrix} $$   \n",
    "$$ W = \\begin{bmatrix} \\sqrt{2}/2 & \\sqrt{2}/2 \\\\ \\sqrt{2}/2 & -\\sqrt{2}/2 \\end{bmatrix} $$ \n",
    "\n",
    "are unitary matrices. Multiply them and verify that their product is also unitary.\n",
    "\n"
   ]
  },
  {
   "cell_type": "code",
   "execution_count": 20,
   "id": "e781c4dc",
   "metadata": {},
   "outputs": [
    {
     "name": "stdout",
     "output_type": "stream",
     "text": [
      "U es unitaria\n",
      "W es unitaria\n",
      "U X W es unitario\n"
     ]
    }
   ],
   "source": [
    "u = np.array([[0,1],[1,0]])\n",
    "w = np.array([[np.sqrt(2)/2,np.sqrt(2)/2],[np.sqrt(2)/2,-np.sqrt(2)/2]])\n",
    " \n",
    "identidad = np.eye(u.shape[0])\n",
    "\n",
    "#Verificamos que U es unitaria\n",
    "if np.allclose(np.dot(u,u.conj().T),identidad):\n",
    "    print(\"U es unitaria\")\n",
    "else:\n",
    "    print(\"U no es unitaria\")\n",
    "\n",
    "#Verificamos que W es unitaria\n",
    "if np.allclose(np.dot(w,w.conj().T),identidad):\n",
    "    print(\"W es unitaria\")\n",
    "else:\n",
    "    print(\"W no es unitaria\")\n",
    "\n",
    "#Verificamos que su productor tambien es unitario\n",
    "uw = np.dot(u,w)\n",
    "if np.allclose(np.dot(uw,uw.conj().T),identidad):\n",
    "    print(\"U X W es unitario\")\n",
    "else:\n",
    "    print(\"U X W no es unitario\")\n"
   ]
  },
  {
   "cell_type": "markdown",
   "id": "b8b6339d",
   "metadata": {},
   "source": [
    "### Solución 4.4.2\n",
    "\n",
    "Go back to Example 3.3.2 (quantum billiard ball), keep the same initial state vector [1, 0, 0, 0]T, but change the unitary map to\n",
    "\n",
    "\\begin{bmatrix} \n",
    "0 & 1/\\sqrt{2} & 1/\\sqrt{2} & 0 \\\\ \n",
    "i/\\sqrt{2} & 0 & 0 & 1/\\sqrt{2} \\\\ \n",
    "1/\\sqrt{2} & 0 & 0 & i/\\sqrt{2} \\\\ \n",
    "0 & 1/\\sqrt{2} & -1/\\sqrt{2} & 0 \\end{bmatrix}\n",
    "\n",
    "Determine the state of the system after three time steps. What is the chance of the quantum ball to be found at point 3?"
   ]
  },
  {
   "cell_type": "code",
   "execution_count": 39,
   "id": "50d8da3b",
   "metadata": {},
   "outputs": [
    {
     "name": "stdout",
     "output_type": "stream",
     "text": [
      "Clic 1: \n",
      "[[0.        +0.j        ]\n",
      " [0.        +0.70710678j]\n",
      " [0.70710678+0.j        ]\n",
      " [0.        +0.j        ]]\n",
      "Clic 2: \n",
      "[[ 0.5+0.5j]\n",
      " [ 0. +0.j ]\n",
      " [ 0. +0.j ]\n",
      " [-0.5+0.5j]]\n",
      "Clic 3: \n",
      "[[ 0.        +0.j        ]\n",
      " [-0.70710678+0.70710678j]\n",
      " [ 0.        +0.j        ]\n",
      " [ 0.        +0.j        ]]\n",
      "La probabilidad de que la bola se encuentre en el punto 3 es: 0j\n"
     ]
    }
   ],
   "source": [
    "import numpy as np\n",
    "estado0 = np.array([[1],[0],[0],[0]])\n",
    "\n",
    "matriz = np.array([\n",
    "    [0, 1/np.sqrt(2), 1/np.sqrt(2), 0],\n",
    "    [1j/np.sqrt(2), 0, 0, 1/np.sqrt(2)],\n",
    "    [1/np.sqrt(2), 0, 0, 1j/np.sqrt(2)],\n",
    "    [0, 1/np.sqrt(2), -1/np.sqrt(2), 0]\n",
    "])\n",
    "\n",
    "#Caculamos los estados con tres clics\n",
    "print(\"Clic 1: \")\n",
    "estado1 = np.dot(matriz,estado0)\n",
    "print(estado1)\n",
    "print(\"Clic 2: \")\n",
    "estado2 = np.dot(matriz,estado1)\n",
    "print(estado2)\n",
    "print(\"Clic 3: \")\n",
    "estado3 = np.dot(matriz,estado2)\n",
    "print(estado3)\n",
    "\n",
    "#calculamos la probabilidad para la posicion 3\n",
    "norma = np.linalg.norm(estado3)\n",
    "\n",
    "\n",
    "#Calculamos la probabilidad de encontrar la partícula en cualquier posición\n",
    "print(f\"La probabilidad de que la bola se encuentre en el punto 3 es: {(estado3[3][0])**2/norma**2}\")\n",
    "\n",
    "\n"
   ]
  },
  {
   "cell_type": "markdown",
   "id": "ede24a46",
   "metadata": {},
   "source": [
    "### Solución 4.5.2\n",
    "\n",
    "Write down the generic state vector for the system of two particles\n",
    "with spin. Generalize it to a system with n particles (this is important: it will be the physical realization for quantum registers!)."
   ]
  },
  {
   "cell_type": "markdown",
   "id": "eba69fa0",
   "metadata": {},
   "source": [
    "El producto tensorial entre dos estados $|U_{1}\\rangle$  y  $|U_{2}\\rangle$ que definen el estado e cada partícula nos permiten definir el vector de estado, pues si tenemos en cuenta que, existen el sistema los estados $|U_{1}\\rangle$  y  $|U_{2}\\rangle$, el vector que define el estado del sistema es: \n",
    "\n",
    "\\begin{equation}\n",
    "|X\\rangle = |U_{1}\\rangle \\otimes |U_{2}\\rangle\n",
    "\\end{equation}\n",
    "\n",
    "Ahora, teniendo en cuenta la ecuación (1), si suponemos un sistema de más partículas, un sistema de n particulas, podemos usar esta ecuación para crear un vector que describa el estao general para el sistema de la siguiente forma:\n",
    "\n",
    "Dado un sistema de n partículas, sean $ U_{0},U_{1},U_{i-1}...U_{i}$ partículas del sistema, y sea $|X\\rangle$ la ecuación que describe el estado gerar del sistema entonces $|X\\rangle$ se define como:\n",
    "\n",
    "\\begin{equation}\n",
    "|X\\rangle = |U_{0}\\rangle \\otimes |U_{1}\\rangle \\otimes |U_{2}\\rangle \\otimes \\dots \\otimes |U_{n}\\rangle\n",
    "\\tag{2}\n",
    "\\end{equation}\n",
    "\n",
    "\n"
   ]
  },
  {
   "cell_type": "markdown",
   "id": "41c02145",
   "metadata": {},
   "source": [
    "### Solución 4.5.3\n",
    "\n",
    "Assume the same scenario as in Example 4.5.2 and let\n",
    "\n",
    "$|\\phi\\rangle = |x_{0}\\rangle \\otimes |y_{1}\\rangle + |x_{1}\\rangle \\otimes |y_{1}\\rangle $\n",
    "\n",
    "Is this state separable?\n"
   ]
  },
  {
   "cell_type": "markdown",
   "id": "75111d3c",
   "metadata": {},
   "source": [
    "Teniendo en cuenta la definicion del producto tensorial y sabiendo que se comporta de forma similar a la multiplicación distributiva en álgebra, entonces la expresion\n",
    "\n",
    "$|\\phi\\rangle = |x_{0}\\rangle \\otimes |y_{1}\\rangle + |x_{1}\\rangle \\otimes |y_{1}\\rangle$  \n",
    "\n",
    "se puede expresar como:\n",
    "\n",
    "$|\\phi\\rangle = (|x_{0}\\rangle + |x_{1}\\rangle) \\otimes |y_{1}\\rangle$ \n",
    "\n",
    "De esta forma pordemos decir que el producto tensorial satisface que:\n",
    " \n",
    "$(|x_{0}\\rangle + |x_{1}\\rangle) \\otimes |y_{1}\\rangle = |x_{0}\\rangle \\otimes |y_{1}\\rangle + |x_{1}\\rangle \\otimes |y_{1}\\rangle$ \n",
    "\n",
    "Ahora bien, podemos observar que el factor $(|x_{0}\\rangle + |x_{1}\\rangle)$ se convierte en otro vector, de esta forma podemos decir que se genera en el sistema un estado $|X\\rangle$ que pueda definir el estado $(|x_{0}\\rangle + |x_{1}\\rangle)$ y de esta forma podemos definir el estado incial $|\\phi\\rangle$ como:\n",
    "\n",
    "$|\\phi\\rangle = |X\\rangle \\otimes |y_{1}\\rangle$ \n",
    "\n",
    "De esta forma podemos decir que el estado $|\\phi\\rangle$ es separable.\n",
    "\n"
   ]
  }
 ],
 "metadata": {
  "kernelspec": {
   "display_name": ".venv",
   "language": "python",
   "name": "python3"
  },
  "language_info": {
   "codemirror_mode": {
    "name": "ipython",
    "version": 3
   },
   "file_extension": ".py",
   "mimetype": "text/x-python",
   "name": "python",
   "nbconvert_exporter": "python",
   "pygments_lexer": "ipython3",
   "version": "3.12.5"
  }
 },
 "nbformat": 4,
 "nbformat_minor": 5
}
